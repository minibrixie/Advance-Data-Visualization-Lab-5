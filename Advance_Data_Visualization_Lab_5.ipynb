{
  "nbformat": 4,
  "nbformat_minor": 0,
  "metadata": {
    "colab": {
      "provenance": [],
      "authorship_tag": "ABX9TyMhkzpx6kZ16o3SieiwOXKa",
      "include_colab_link": true
    },
    "kernelspec": {
      "name": "python3",
      "display_name": "Python 3"
    },
    "language_info": {
      "name": "python"
    }
  },
  "cells": [
    {
      "cell_type": "markdown",
      "metadata": {
        "id": "view-in-github",
        "colab_type": "text"
      },
      "source": [
        "<a href=\"https://colab.research.google.com/github/minibrixie/Advance-Data-Visualization-Lab-5/blob/main/Advance_Data_Visualization_Lab_5.ipynb\" target=\"_parent\"><img src=\"https://colab.research.google.com/assets/colab-badge.svg\" alt=\"Open In Colab\"/></a>"
      ]
    },
    {
      "cell_type": "code",
      "execution_count": 5,
      "metadata": {
        "colab": {
          "base_uri": "https://localhost:8080/"
        },
        "id": "dU75fGH7hVWe",
        "outputId": "9420cfd4-8685-4f32-f969-03e4e1e94d9c"
      },
      "outputs": [
        {
          "output_type": "stream",
          "name": "stdout",
          "text": [
            "Enter your choice:1\n",
            "Enter two numbers: \n",
            "10\n",
            "5\n",
            "Result =  15.0\n"
          ]
        }
      ],
      "source": [
        "choice = int(input(\"Enter your choice:\"))\n",
        "print(\"Enter two numbers: \")\n",
        "num1 = float(input())\n",
        "num2 = float(input())\n",
        "\n",
        "if choice == 1:\n",
        "  res = num1 + num2\n",
        "  print(\"Result = \", res)\n",
        "\n",
        "elif choice == 2:\n",
        "  res = num1 - num2\n",
        "  print(\"Result = \", res)\n",
        "\n",
        "elif choice == 3:\n",
        "  res = num1 * num2\n",
        "  print(\"Result = \", res)\n",
        "\n",
        "elif choice == 4:\n",
        "  res = num1 / num2\n",
        "  print(\"Result = \", res)\n",
        "\n",
        "elif choice == 5:\n",
        "  exit()\n",
        "else:\n",
        "  print(\"Wrong input..!!\")"
      ]
    }
  ]
}